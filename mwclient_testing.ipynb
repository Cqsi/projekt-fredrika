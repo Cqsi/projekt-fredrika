{
 "cells": [
  {
   "cell_type": "markdown",
   "metadata": {},
   "source": [
    "Jag får en varning när jag kör mina celler, vilket jag inte riktigt vet vad det beror på. Det verkar vara något fel mellan ipython och ipykernel, men eftersom det inte inverkar på hur själva programmet utförs så ignorerar jag bara varningarna. Se [denna fråga på StackOverflow](https://stackoverflow.com/questions/63413807/deprecation-warning-from-jupyter-should-run-async-will-not-call-transform-c).\n"
   ]
  },
  {
   "cell_type": "code",
   "execution_count": 7,
   "metadata": {
    "scrolled": true
   },
   "outputs": [
    {
     "name": "stderr",
     "output_type": "stream",
     "text": [
      "c:\\users\\casim\\appdata\\local\\programs\\python\\python38-32\\lib\\site-packages\\ipykernel\\ipkernel.py:283: DeprecationWarning: `should_run_async` will not call `transform_cell` automatically in the future. Please pass the result to `transformed_cell` argument and any exception that happen during thetransform in `preprocessing_exc_tuple` in IPython 7.17 and above.\n",
      "  and should_run_async(code)\n"
     ]
    }
   ],
   "source": [
    "import warnings\n",
    "warnings.filterwarnings(\"ignore\", category=DeprecationWarning)"
   ]
  },
  {
   "cell_type": "markdown",
   "metadata": {},
   "source": [
    "# Add navbox to articles with mwclient"
   ]
  },
  {
   "cell_type": "markdown",
   "metadata": {},
   "source": [
    "[Documentation for mwclient](https://mwclient.readthedocs.io/en/latest/index.html)"
   ]
  },
  {
   "cell_type": "markdown",
   "metadata": {},
   "source": [
    "### Setup"
   ]
  },
  {
   "cell_type": "code",
   "execution_count": 12,
   "metadata": {
    "scrolled": false
   },
   "outputs": [
    {
     "name": "stdout",
     "output_type": "stream",
     "text": [
      "Setup done.\n"
     ]
    }
   ],
   "source": [
    "import mwclient\n",
    "import pandas as pd\n",
    "\n",
    "username = \"Cqsi\"\n",
    "password = open(\"password.txt\", \"r\").read() # Mitt lösenord är i denna fil och därför finns inte filen på Github\n",
    "\n",
    "lang = \"fi\" # Sätt \"fi\" för finska wikipedia\n",
    "\n",
    "site = mwclient.Site(lang + \".wikipedia.org\")\n",
    "site.login(username, password) \n",
    "\n",
    "counter = 0\n",
    "found = 0\n",
    "edited = 0\n",
    "\n",
    "excel_file = \"excel\\\\input.xlsx\"\n",
    "\n",
    "print(\"Setup done.\")"
   ]
  },
  {
   "cell_type": "markdown",
   "metadata": {},
   "source": [
    "### Read excel"
   ]
  },
  {
   "cell_type": "code",
   "execution_count": 14,
   "metadata": {},
   "outputs": [
    {
     "name": "stdout",
     "output_type": "stream",
     "text": [
      "Excel file read.\n"
     ]
    }
   ],
   "source": [
    "try:\n",
    "    df = pd.read_excel(excel_file, engine='openpyxl')\n",
    "    print(\"Excel file read.\")\n",
    "except Exception as e:\n",
    "    print(e)"
   ]
  },
  {
   "cell_type": "markdown",
   "metadata": {},
   "source": [
    "### Start looping through articles"
   ]
  },
  {
   "cell_type": "code",
   "execution_count": 15,
   "metadata": {},
   "outputs": [
    {
     "name": "stdout",
     "output_type": "stream",
     "text": [
      "{{ohjaa tänne|Storlandet|[[Storlandet (täsmennyssivu)|täsmennyssivulla]].}}\n",
      "{{Saari_WD\n",
      "| nimi            = Iso-Nauvo\n",
      "| muut nimet      = Storlandet\n",
      "| kuva            = Nauvo harbour.JPG\n",
      "| kuvateksti      = Nauvon satama Iso-Nauvossa\n",
      "| karttakenttä    = \n",
      "| sijainti        = \n",
      "| saariryhmä      = [[Turunmaan saaristo]]\n",
      "| vesialue        = [[Saaristomeri]]\n",
      "| merialue        = [[Itämeri]]\n",
      "| pinta-ala       = 73\n",
      "| korkein kohta   = \n",
      "| väkiluku        = 924\n",
      "| kielet          = \n",
      "| asutuskeskukset = \n",
      "| kunta           = [[Parainen]]\n",
      "| maakunta        = [[Varsinais-Suomi]]\n",
      "| valtio          = [[Suomi]]\n",
      "}}\n",
      "'''Iso-Nauvo'''<ref>{{Verkkoviite | Osoite =http://www.pargas.fi/web/kommunerna/nagu/historia/fi_FI/historia/ | Nimeke =Nauvo: Historia | Tekijä = | Tiedostomuoto = | Selite = | Julkaisu = | Ajankohta = | Julkaisupaikka = | Julkaisija =Paraisten kaupunki | Viitattu = 2.7.2013 | Kieli = }}</ref> ({{k-sv|Storlandet}}) on [[Nauvo]]n pääsaari [[Parainen|Paraisten]] kunnassa. 73 km² kokoisella saarella on 924 vakituista asukasta, mutta kesäasukkaita on 2&nbsp;296.<ref>{{Verkkoviite | Osoite = http://www.tem.fi/files/26865/Ilman_kiinteaa_tieyhteytta_olevat_pysyvasti_asutut_saaret.pdf | Nimeke = Ilman kiinteää tieyhteyttä olevat pysyvästi asutut saaret| Tekijä = Elina Auri| Tiedostomuoto = pdf| Selite = s. 82| Julkaisija = Työ- ja elinkeinoministeriö| Viitattu = 28.6.2013}}</ref> Nauvon keskusta sijaitsee Iso-Nauvossa. Keskustassa sijaitsee keskiaikainen [[Nauvon kirkko]] ja Nauvon satama.\n",
      "\n",
      "[[Saariston rengastie]] kulkee Iso-Nauvon halki. Saaresta on siltayhteys [[Pikku-Nauvo]]sta, jossa sijaitsee Nauvon lossi. Iso-Nauvosta [[Korppoo]]seen liikennöi Korppoon lossi. \n",
      "\n",
      "==Lähteet==\n",
      "{{viitteet}}\n",
      "{{coord|60|11|20.97|N|21|48|31.39|E|region:FI|display=title}}\n",
      "{{Nauvo}}\n",
      "\n",
      "[[Luokka:Nauvo]]\n",
      "[[Luokka:Paraisten saaret]]\n",
      "\n",
      "************************************************************\n",
      "\n",
      "{{Saari_WD\n",
      "| nimi            = Kirjais\n",
      "| muut nimet      = \n",
      "| kuva            = \n",
      "| kuvateksti      = \n",
      "| karttakenttä    = \n",
      "| sijainti        = \n",
      "| saariryhmä      = [[Turunmaan saaristo]]\n",
      "| vesialue        = [[Saaristomeri]]\n",
      "| merialue        = [[Itämeri]]\n",
      "| pinta-ala       = 10,2\n",
      "| korkein kohta   = \n",
      "| väkiluku        = 31\n",
      "| kunta           = [[Parainen]]\n",
      "| maakunta        = [[Varsinais-Suomi]]\n",
      "| valtio          = [[Suomi]]\n",
      "}}\n",
      "'''Kirjais''' (joskus myös ''Kirjainen'') on saari ja kylä [[Nauvo]]n pääsaarten eteläpuolella [[Parainen|Paraisilla]]. Saaresta on siltayhteys [[Sommarö (Nauvo)|Sommarö]]n kautta [[Pikku-Nauvo]]on. Kirjais on 10 neliökilometrin kokoinen. Vakituisia asukkaita saarella on 31, ja kesäasukkaita Kirjaisissa on noin 250.<ref>{{Verkkoviite | Osoite = http://www.tem.fi/files/26865/Ilman_kiinteaa_tieyhteytta_olevat_pysyvasti_asutut_saaret.pdf | Nimeke = Ilman kiinteää tieyhteyttä olevat pysyvästi asutut saaret| Tekijä = Elina Auri| Tiedostomuoto = pdf| Selite = s. 81| Julkaisija = Työ- ja elinkeinoministeriö| Viitattu = 29.6.2013}}</ref> Kirjaisissa on vierasvenesatama sekä ravintola ja kyläkauppa.<ref>{{Verkkoviite | Osoite = http://www.vierassatamat.fi/index.php?action=vsatama&vsatama-id=7638 | Nimeke = Kirjais, Nauvo, Parainen| Julkaisija = Suomen Vierassatamat| Viitattu = 29.6.2013}}</ref>\n",
      "\n",
      "==Lähteet==\n",
      "{{viitteet}}\n",
      "\n",
      "==Aiheesta muualla==\n",
      "*[http://www.kirjais.fi/ Kirjais ja Sommaröseudun kehitysyhdistys]\n",
      "\n",
      "{{tynkä/Saari}}\n",
      "{{coord|60|07|18.5|N|21|57|58.1|E|region:FI|display=title}}\n",
      "\n",
      "{{Nauvo}}\n",
      "\n",
      "[[Luokka:Nauvo]]\n",
      "[[Luokka:Paraisten saaret]]\n",
      "\n",
      "************************************************************\n",
      "\n",
      "{{Saari WD\n",
      "| nimi =\n",
      "| alkuperäinen nimi = \n",
      "| kuva = \n",
      "| kuvateksti = \n",
      "| latd = \n",
      "| longd = \n",
      "| koordinaatit = \n",
      "| sijainti = {{coord|60|8|50|N|021|51|28|E|region:FI-19_type:isle|display=inline,title}} <ref name=\"paikkatietoikkuna\">{{Verkkoviite|osoite=https://kartta.paikkatietoikkuna.fi/?zoomLevel=8&coord=215159.03799999994_6679309.350999992&mapLayers=801+100+default&&&uuid=90246d84-3958-fd8c-cb2c-2510cccca1d3&noSavedState=true&showMarker=true&showIntro=false|nimeke=Paikkatietoikkuna|julkaisu=kartta.paikkatietoikkuna.fi|viitattu=2021-06-09|ietf-kielikoodi=fi}}</ref>, [[Nauvo]]\n",
      "| saariryhmä = \n",
      "| merialue = \n",
      "| vesialue = [[Turunmaan saaristo]], [[Saaristomeri]], [[Itämeri]]\n",
      "| alue = \n",
      "| kunta = [[Parainen]]\n",
      "| maakunta = [[Varsinais-Suomen maakunta]]\n",
      "| lääni = [[Länsi-Suomen lääni]]\n",
      "| valtio = [[Suomi]]\n",
      "| zoom = 7\n",
      "| pinta-ala = \n",
      "| korkein kohta = \n",
      "| asutuskeskukset = \n",
      "| väkiluku = \n",
      "\n",
      "}}\n",
      "\n",
      "'''Högsar''' on saari [[Nauvo|Nauvon]] kunta-alueella, [[Parainen|Paraisilla]].<ref>{{Verkkoviite|osoite=http://www.geonames.org/848813/hoegsar.html|nimeke=GeoNames.org|julkaisu=www.geonames.org|viitattu=2021-06-09}}</ref><ref>{{Verkkoviite|osoite=https://karta.pargas.fi/IMS/?layers=Opaskartta&lon=Kunta-alueet&cp=6670952,23436528&z=8|nimeke=Karttapalvelu|julkaisu=karta.pargas.fi|viitattu=2021-06-09}}</ref><ref>{{Verkkoviite|osoite=https://uppslagsverket.fi/sv/sok/view-170045-Nagu|nimeke=Nagu - Uppslagsverket Finland|julkaisu=uppslagsverket.fi|viitattu=2021-06-09}}</ref> Saari kuuluu siten [[Saaristomeri|Saaristomerellä]] sijaitsevaan [[Turunmaan saaristo|Turunmaan saaristoon]]. Saari sijaitsee noin 6 km lounaaseen [[Nauvon kirkko|Nauvon kirkolta]]. Saaren pinta-ala on 12,12 neliökilometriä.<ref>Laskettu [http://www.viewfinderpanoramas.org/dem3.html Viewfinder Panoramas Digital elevation Model] perusteella. Lisätietoa algoritmeista [[:sv:Användare:Lsjbot/Algoritmer|Lsjbot/Algoritmer.]]</ref> Saari nousee noin 34 metriä merenpinnan yläpuolelle.<ref>{{Verkkoviite|osoite=https://paikkatietojentuottajat-koekaytto.maanmittauslaitos.fi/tietokortit/nimisto/paikka/10303715|nimeke=Paikkatietojentuottajat koekäyttö|julkaisu=paikkatietojentuottajat-koekaytto.maanmittauslaitos.fi|viitattu=2021-06-10}}</ref>   \n",
      "\n",
      "== Lähteet ==\n",
      "<references />\n",
      "\n",
      "{{tynkä/Saari}}\n",
      "\n",
      "{{Nauvo}}\n",
      "\n",
      "[[Luokka:Nauvo]]\n",
      "[[Luokka:Paraisten saaret]]\n",
      "\n",
      "************************************************************\n",
      "\n",
      "Wikipedia page doesn't exist\n",
      "\n",
      "************************************************************\n",
      "\n",
      "Wikipedia page doesn't exist\n",
      "\n",
      "************************************************************\n",
      "\n",
      "Wikipedia page doesn't exist\n",
      "\n",
      "************************************************************\n",
      "\n"
     ]
    }
   ],
   "source": [
    "for index, row in df.iterrows():\n",
    "    counter+=1\n",
    "    cur = row[\"artikel\"]\n",
    "\n",
    "    # load Wikipedia page\n",
    "    page = site.pages[cur]\n",
    "\n",
    "    if page.exists:\n",
    "        found += 1\n",
    "        article_text = page.text()\n",
    "\n",
    "        if \"{{Nauvo}}\" not in article_text:\n",
    "            edited += 1\n",
    "            text = article_text.replace(\"[[Luokka:\", \"{{Nauvo}}\\n\\n[[Luokka:\", 1)\n",
    "            print(text)\n",
    "        else:\n",
    "            print(\"{{Nauvo}} already in page\")\n",
    "\n",
    "    else:\n",
    "        print(\"Wikipedia page doesn't exist\")\n",
    "\n",
    "    # make the output clearer\n",
    "    print()\n",
    "    print(\"************************************************************\")\n",
    "    print()"
   ]
  },
  {
   "cell_type": "markdown",
   "metadata": {},
   "source": [
    "### Print out summary of edits"
   ]
  },
  {
   "cell_type": "code",
   "execution_count": 16,
   "metadata": {},
   "outputs": [
    {
     "name": "stdout",
     "output_type": "stream",
     "text": [
      "Found 3/6 Wikipedia articles.\n",
      "Edited 3/3 Wikipedia articles.\n"
     ]
    }
   ],
   "source": [
    "print(\"Found \" + str(found) + \"/\" + str(counter) + \" Wikipedia articles.\")\n",
    "print(\"Edited \" + str(edited) + \"/\" + str(found) + \" Wikipedia articles.\")"
   ]
  },
  {
   "cell_type": "code",
   "execution_count": null,
   "metadata": {},
   "outputs": [],
   "source": []
  }
 ],
 "metadata": {
  "kernelspec": {
   "display_name": "Python 3",
   "language": "python",
   "name": "python3"
  },
  "language_info": {
   "codemirror_mode": {
    "name": "ipython",
    "version": 3
   },
   "file_extension": ".py",
   "mimetype": "text/x-python",
   "name": "python",
   "nbconvert_exporter": "python",
   "pygments_lexer": "ipython3",
   "version": "3.8.5"
  }
 },
 "nbformat": 4,
 "nbformat_minor": 4
}
