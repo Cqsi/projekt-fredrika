{
 "cells": [
  {
   "cell_type": "markdown",
   "metadata": {},
   "source": [
    "Jag får en varning när jag kör mina celler, vilket jag inte riktigt vet vad det beror på. Det verkar vara något fel mellan ipython och ipykernel, men eftersom det inte inverkar på hur själva programmet utförs så ignorerar jag bara varningarna. Se [denna fråga på StackOverflow](https://stackoverflow.com/questions/63413807/deprecation-warning-from-jupyter-should-run-async-will-not-call-transform-c).\n"
   ]
  },
  {
   "cell_type": "code",
   "execution_count": 5,
   "metadata": {
    "scrolled": true
   },
   "outputs": [
    {
     "name": "stderr",
     "output_type": "stream",
     "text": [
      "c:\\users\\casim\\appdata\\local\\programs\\python\\python38-32\\lib\\site-packages\\ipykernel\\ipkernel.py:283: DeprecationWarning: `should_run_async` will not call `transform_cell` automatically in the future. Please pass the result to `transformed_cell` argument and any exception that happen during thetransform in `preprocessing_exc_tuple` in IPython 7.17 and above.\n",
      "  and should_run_async(code)\n"
     ]
    }
   ],
   "source": [
    "import warnings\n",
    "warnings.filterwarnings(\"ignore\", category=DeprecationWarning)"
   ]
  },
  {
   "cell_type": "markdown",
   "metadata": {},
   "source": [
    "# Demo för mwclient"
   ]
  },
  {
   "cell_type": "markdown",
   "metadata": {},
   "source": [
    "[Documentation för mwclient](https://mwclient.readthedocs.io/en/latest/index.html)"
   ]
  },
  {
   "cell_type": "markdown",
   "metadata": {},
   "source": [
    "### Setup"
   ]
  },
  {
   "cell_type": "code",
   "execution_count": 19,
   "metadata": {
    "scrolled": false
   },
   "outputs": [
    {
     "name": "stdout",
     "output_type": "stream",
     "text": [
      "True\n"
     ]
    }
   ],
   "source": [
    "import mwclient\n",
    "\n",
    "username = \"Cqsi\"\n",
    "password = open(\"foo.txt\", \"r\").read() # Mitt lösenord är i denna fil och därför finns inte filen på Github\n",
    "\n",
    "lang = \"sv\" # Sätt \"fi\" för finska wikipedia\n",
    "\n",
    "site = mwclient.Site(lang + \".wikipedia.org\")\n",
    "site.login(username, password) \n",
    "page = site.pages[\"Användare:Cqsi/sandlåda\"]\n",
    "\n",
    "print(page.exists)"
   ]
  },
  {
   "cell_type": "markdown",
   "metadata": {},
   "source": [
    "Att använda site.login är lite \"old-school\" och det rekommenderas inte, men eftersom det är enklare använder jag det nu. Se https://mwclient.readthedocs.io/en/latest/index.html."
   ]
  },
  {
   "cell_type": "markdown",
   "metadata": {},
   "source": [
    "### Få sidans innehåll"
   ]
  },
  {
   "cell_type": "code",
   "execution_count": 12,
   "metadata": {},
   "outputs": [
    {
     "name": "stdout",
     "output_type": "stream",
     "text": [
      "Detta är en edit\n"
     ]
    }
   ],
   "source": [
    "text = page.text()\n",
    "print(text)"
   ]
  },
  {
   "cell_type": "markdown",
   "metadata": {},
   "source": [
    "### Gör edits"
   ]
  },
  {
   "cell_type": "code",
   "execution_count": 21,
   "metadata": {},
   "outputs": [
    {
     "data": {
      "text/plain": [
       "OrderedDict([('result', 'Success'),\n",
       "             ('pageid', 8557949),\n",
       "             ('title', 'Användare:Cqsi/sandlåda'),\n",
       "             ('contentmodel', 'wikitext'),\n",
       "             ('oldrevid', 49334658),\n",
       "             ('newrevid', 49334662),\n",
       "             ('newtimestamp', '2021-06-09T08:22:18Z'),\n",
       "             ('watched', '')])"
      ]
     },
     "execution_count": 21,
     "metadata": {},
     "output_type": "execute_result"
    }
   ],
   "source": [
    "edit_summary = \"Denna edit gjordes av en bot\"\n",
    "edit = \"Detta är en edit\"\n",
    "\n",
    "page.edit(edit, edit_summary)"
   ]
  },
  {
   "cell_type": "markdown",
   "metadata": {},
   "source": [
    "Man måste lägga märke till att page.edit ändrar hela sidan till det du har på edit. Om man bara vill lägga till något, se under."
   ]
  },
  {
   "cell_type": "markdown",
   "metadata": {},
   "source": [
    "### Gör tillägg till sidan"
   ]
  },
  {
   "cell_type": "code",
   "execution_count": 20,
   "metadata": {},
   "outputs": [
    {
     "data": {
      "text/plain": [
       "OrderedDict([('result', 'Success'),\n",
       "             ('pageid', 8557949),\n",
       "             ('title', 'Användare:Cqsi/sandlåda'),\n",
       "             ('contentmodel', 'wikitext'),\n",
       "             ('nochange', ''),\n",
       "             ('watched', '')])"
      ]
     },
     "execution_count": 20,
     "metadata": {},
     "output_type": "execute_result"
    }
   ],
   "source": [
    "add = \"{{Nagu}}\"\n",
    "\n",
    "page.edit(text+add, edit_summary)"
   ]
  }
 ],
 "metadata": {
  "kernelspec": {
   "display_name": "Python 3",
   "language": "python",
   "name": "python3"
  },
  "language_info": {
   "codemirror_mode": {
    "name": "ipython",
    "version": 3
   },
   "file_extension": ".py",
   "mimetype": "text/x-python",
   "name": "python",
   "nbconvert_exporter": "python",
   "pygments_lexer": "ipython3",
   "version": "3.8.5"
  }
 },
 "nbformat": 4,
 "nbformat_minor": 4
}
